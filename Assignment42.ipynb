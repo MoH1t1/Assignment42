{
  "metadata": {
    "kernelspec": {
      "name": "python",
      "display_name": "Python (Pyodide)",
      "language": "python"
    },
    "language_info": {
      "codemirror_mode": {
        "name": "python",
        "version": 3
      },
      "file_extension": ".py",
      "mimetype": "text/x-python",
      "name": "python",
      "nbconvert_exporter": "python",
      "pygments_lexer": "ipython3",
      "version": "3.8"
    }
  },
  "nbformat_minor": 4,
  "nbformat": 4,
  "cells": [
    {
      "cell_type": "code",
      "source": "# Q1. Pearson correlation coefficient is a measure of the linear relationship between two variables. Suppose\n# you have collected data on the amount of time students spend studying for an exam and their final exam\n# scores. Calculate the Pearson correlation coefficient between these two variables and interpret the result.\n\nTo calculate the Pearson correlation coefficient between the amount of time students spend studying for an exam and their final exam scores, we can use the formula:\n r=  ∑(Xi- X)(Yi-Y)/ root over(∑(Xi-X)^2 (Yi-Y)^2)\n\nwhere: Xi and Yi are the individual data points (study time and exam scores).\nX and Y are the means of the study time and exam scores.\n                                                                                                                                           \nOnce we calculate this, interpret the result:\n\nr=1: Perfect positive linear relationship.\nr=−1: Perfect negative linear relationship.\nr=0: No linear relationship.\n                                                                                                                                           \n                                                                                                                                           \n# Q2. Spearman's rank correlation is a measure of the monotonic relationship between two variables.\n# Suppose you have collected data on the amount of sleep individuals get each night and their overall job\n# satisfaction level on a scale of 1 to 10. Calculate the Spearman's rank correlation between these two variables and interpret the result.\n\nTo calculate the Spearman's rank correlation between the amount of sleep individuals get and their overall job satisfaction, you first rank the data, then calculate the difference in ranks \ndi for each pair of values, and apply the formula:\n\nρ = 1 − ∑di^2 / n(n^2-1)\n\nwhere:\ndi is the difference in ranks for each pair.\nn is the number of data points.\n    \nInterpret the result:\nρ=1: Perfect positive monotonic relationship.\nρ=−1: Perfect negative monotonic relationship.\nρ=0: No monotonic relationship.",
      "metadata": {
        "trusted": true
      },
      "outputs": [],
      "execution_count": null
    },
    {
      "cell_type": "code",
      "source": "# Q3. Suppose you are conducting a study to examine the relationship between the number of hours of exercise per week and body mass index (BMI) in a sample of \n# adults. You collected data on both variables for 50 participants. Calculate the Pearson correlation coefficient and the Spearman's rank correlation between these two variables and compare the results.\n\nPearson correlation coefficient for exercise and BMI is calculated using the formula for Pearson correlation. It measures the linear relationship between\nhours of exercise and BMI. Spearman's rank correlation would be calculated by ranking the exercise hours and BMI values and using the formula for Spearman's rank correlation.\n\nInterpret the results:\nIf Pearson's coefficient is positive, it suggests that as exercise increases, BMI also increases (linear).\nIf Spearman's coefficient is positive, it indicates a monotonic relationship; however, it doesn't require linearity.\n\nCompare both results:\nIf Pearson's and Spearman's values are close, it suggests a strong linear and monotonic relationship.\nA larger difference between Pearson and Spearman indicates a non-linear but still monotonic relationship.",
      "metadata": {
        "trusted": true
      },
      "outputs": [],
      "execution_count": null
    },
    {
      "cell_type": "code",
      "source": "# Q4. A researcher is interested in examining the relationship between the number of hours individuals spend watching television per day and their level of physical \n# activity. The researcher collected data on both variables from a sample of 50 participants. Calculate the Pearson correlation coefficient between these two variables.\n\nTo calculate the Pearson correlation coefficient between hours spent watching television per day and physical activity levels: Use the formula for Pearson’s \ncorrelation after collecting the data for the hours spent watching TV and physical activity level.\n\nInterpretation:\nA positive value suggests that more TV watching correlates with more physical activity (though this might not always be expected).\nA negative value suggests that increased TV watching correlates with less physical activity.",
      "metadata": {
        "trusted": true
      },
      "outputs": [],
      "execution_count": null
    },
    {
      "cell_type": "code",
      "source": "# Q5. A survey was conducted to examine the relationship between age and preference for a particular brand of soft drink.\n\nThe data provided shows categorical preferences for soft drinks and their associated ages. Since the variables are not both numeric, calculating the Pearson \ncorrelation coefficient is not applicable here. Instead, this scenario suggests analyzing the relationship between age (a numeric variable) and soft drink \npreference (a categorical variable).\n\nWe could:\nGroup the data by soft drink preference and calculate summary statistics (e.g., mean, median age for each drink preference).\nPerform a chi-square test for independence if you have more data in a contingency table format to examine the association between age categories and soft drink preference.\nVisualize the data, such as a bar chart showing soft drink preferences for different age ranges.\n\n# Q6. A company is interested in examining the relationship between the number of sales calls made per day and the number of sales made per week. The company \n# collected data on both variables from a sample of 30 sales representatives. Calculate the Pearson correlation coefficient between these two variables.\n\nTo calculate the Pearson correlation coefficient, r, between the number of sales calls made per day (X) and the number of sales made per week (\nY), we use the formula:\n\n    𝑟 = Cov(X,Y) / 𝜎𝑋 𝜎𝑌\n\nWhere:\n\nCov(X,Y) is the covariance of  X and Y.\n𝜎𝑋 is the standard deviation of X.\n𝜎Y is the standard deviation of Y.",
      "metadata": {
        "trusted": true
      },
      "outputs": [],
      "execution_count": null
    }
  ]
}